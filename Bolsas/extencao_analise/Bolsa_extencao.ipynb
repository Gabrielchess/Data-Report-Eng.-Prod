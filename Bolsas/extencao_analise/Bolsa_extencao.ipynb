{
 "cells": [
  {
   "cell_type": "code",
   "execution_count": 92,
   "metadata": {},
   "outputs": [],
   "source": [
    "import pandas as pd\n",
    "import numpy as np\n",
    "\n",
    "#base = pd.concat[pd.read_csv(i,sep=';', encoding='latin-1') for i in files]\n",
    "base_bolsa_2014 = pd.read_csv('bolsistas_extencao_2014.csv',sep=';', encoding='latin-1')\n",
    "base_bolsa_2015 = pd.read_csv('bolsistas_extencao_2015.csv',sep=';', encoding='latin-1')\n",
    "base_bolsa_2016 = pd.read_csv('bolsistas_extencao_2016.csv',sep=';', encoding='latin-1')\n",
    "base_bolsa_2017 = pd.read_csv('bolsistas_extencao_2017.csv',sep=';', encoding='latin-1')\n",
    "base_bolsa_2018 = pd.read_csv('bolsistas_extencao_2018.csv',sep=';', encoding='latin-1')\n",
    "base_bolsa_2019 = pd.read_csv('bolsistas_extencao_2019.csv',sep=';', encoding='latin-1')"
   ]
  },
  {
   "cell_type": "code",
   "execution_count": 93,
   "metadata": {},
   "outputs": [],
   "source": [
    "base_bolsa_2014.columns = base_bolsa_2014.columns.str.strip()\n",
    "base_bolsa_2015.columns = base_bolsa_2015.columns.str.strip()\n",
    "base_bolsa_2016.columns = base_bolsa_2016.columns.str.strip()\n",
    "base_bolsa_2017.columns = base_bolsa_2017.columns.str.strip()\n",
    "base_bolsa_2018.columns = base_bolsa_2018.columns.str.strip()\n",
    "base_bolsa_2019.columns = base_bolsa_2019.columns.str.strip()"
   ]
  },
  {
   "cell_type": "code",
   "execution_count": 94,
   "metadata": {},
   "outputs": [],
   "source": [
    "base = pd.concat([base_bolsa_2014,base_bolsa_2015,base_bolsa_2016,base_bolsa_2017,base_bolsa_2018,base_bolsa_2019], sort=False)\n",
    "base['CONTADOR'] = 1\n",
    "base.columns = base.columns.str.upper()\n",
    "base = base.rename(columns={'INÍCIO BOLSA': 'INICIO BOLSA'})\n",
    "base = base.rename(columns={'TÉRMINO BOLSA': 'TERMINO BOLSA'})"
   ]
  },
  {
   "cell_type": "code",
   "execution_count": 95,
   "metadata": {},
   "outputs": [],
   "source": [
    "base[['CURSO','resto']] = base.CURSO.str.split(\"     \",n=1,expand=True,)\n",
    "base = base.drop(columns=['resto'])"
   ]
  },
  {
   "cell_type": "code",
   "execution_count": 96,
   "metadata": {},
   "outputs": [],
   "source": [
    "base['INICIO BOLSA'] = pd.to_datetime(base['INICIO BOLSA'], format='%d/%m/%Y')\n",
    "base['TERMINO BOLSA'] = pd.to_datetime(base['TERMINO BOLSA'], format='%d/%m/%Y')\n",
    "base['Dias_com_bolsa'] = base['TERMINO BOLSA'].sub(base['INICIO BOLSA'], axis=0)"
   ]
  },
  {
   "cell_type": "code",
   "execution_count": 97,
   "metadata": {},
   "outputs": [],
   "source": [
    "cursos_de_interesse = ['ENGENHARIA DE PRODUCAO ','ENGENHARIA METALURGICA','ENGENHARIA DE CONTROLE E AUTOMACAO','ENGENHARIA CIVIL','ENGENHARIA MECANICA','ARQUITETURA E URBANISMO','ENGENHARIA URBANA','ENGENHARIA DE MINAS','ENGENHARIA GEOLOGICA','ENGENHARIA AMBIENTAL']\n",
    "\n",
    "#selecionando com isin\n",
    "base = base[base['CURSO'].isin(cursos_de_interesse) == True]"
   ]
  },
  {
   "cell_type": "code",
   "execution_count": 98,
   "metadata": {},
   "outputs": [
    {
     "data": {
      "text/html": [
       "<div>\n",
       "<style scoped>\n",
       "    .dataframe tbody tr th:only-of-type {\n",
       "        vertical-align: middle;\n",
       "    }\n",
       "\n",
       "    .dataframe tbody tr th {\n",
       "        vertical-align: top;\n",
       "    }\n",
       "\n",
       "    .dataframe thead th {\n",
       "        text-align: right;\n",
       "    }\n",
       "</style>\n",
       "<table border=\"1\" class=\"dataframe\">\n",
       "  <thead>\n",
       "    <tr style=\"text-align: right;\">\n",
       "      <th></th>\n",
       "      <th>NOME</th>\n",
       "      <th>CURSO</th>\n",
       "      <th>BOLSA</th>\n",
       "      <th>INICIO BOLSA</th>\n",
       "      <th>TERMINO BOLSA</th>\n",
       "      <th>PROJETO</th>\n",
       "      <th>CONTADOR</th>\n",
       "      <th>Dias_com_bolsa</th>\n",
       "      <th>Dias</th>\n",
       "    </tr>\n",
       "  </thead>\n",
       "  <tbody>\n",
       "    <tr>\n",
       "      <th>233</th>\n",
       "      <td>MARINA MIRANDA DE FARIA</td>\n",
       "      <td>ARQUITETURA E URBANISMO</td>\n",
       "      <td>EXTENSÃO DEARQ 2019</td>\n",
       "      <td>2019-04-01</td>\n",
       "      <td>2019-12-15</td>\n",
       "      <td>O REASSENTAMENTO INVOLUNTARIO DOS ATINGIDOS DE...</td>\n",
       "      <td>1</td>\n",
       "      <td>258 days 00:00:00.000000000</td>\n",
       "      <td>258</td>\n",
       "    </tr>\n",
       "    <tr>\n",
       "      <th>241</th>\n",
       "      <td>NICOLAS DE OLIVEIRA FERNANDES</td>\n",
       "      <td>ARQUITETURA E URBANISMO</td>\n",
       "      <td>EXTENSÃO DEARQ 2019</td>\n",
       "      <td>2019-03-01</td>\n",
       "      <td>2019-12-31</td>\n",
       "      <td>ACOMPANHAMENTO DA COMPRA INSTITUCIONAL DA AGRI...</td>\n",
       "      <td>1</td>\n",
       "      <td>305 days 00:00:00.000000000</td>\n",
       "      <td>305</td>\n",
       "    </tr>\n",
       "    <tr>\n",
       "      <th>282</th>\n",
       "      <td>ANA LUISA SANTOS MARTINS</td>\n",
       "      <td>ENGENHARIA CIVIL</td>\n",
       "      <td>EXTENSÃO DEPRO 2019</td>\n",
       "      <td>2019-03-01</td>\n",
       "      <td>2019-12-31</td>\n",
       "      <td>USO EFICIENTE DE AGUA E ENERGIA NA ESCOLA DE M...</td>\n",
       "      <td>1</td>\n",
       "      <td>305 days 00:00:00.000000000</td>\n",
       "      <td>305</td>\n",
       "    </tr>\n",
       "    <tr>\n",
       "      <th>292</th>\n",
       "      <td>DANIEL SILVA NEIVA</td>\n",
       "      <td>ENGENHARIA AMBIENTAL</td>\n",
       "      <td>EXTENSÃO DEMUL 2019</td>\n",
       "      <td>2019-03-01</td>\n",
       "      <td>2019-12-20</td>\n",
       "      <td>ASTRONOMIA NA COMUNIDADE E ITINERANTE</td>\n",
       "      <td>1</td>\n",
       "      <td>294 days 00:00:00.000000000</td>\n",
       "      <td>294</td>\n",
       "    </tr>\n",
       "    <tr>\n",
       "      <th>305</th>\n",
       "      <td>ANA LUIZA SILVA SANTOS FELIX</td>\n",
       "      <td>ENGENHARIA URBANA</td>\n",
       "      <td>EXTENSÃO DEURB 2019</td>\n",
       "      <td>2019-03-01</td>\n",
       "      <td>2019-12-31</td>\n",
       "      <td>Educação Sanitária Sustentável em Áreas de Int...</td>\n",
       "      <td>1</td>\n",
       "      <td>305 days 00:00:00.000000000</td>\n",
       "      <td>305</td>\n",
       "    </tr>\n",
       "  </tbody>\n",
       "</table>\n",
       "</div>"
      ],
      "text/plain": [
       "                              NOME                    CURSO  \\\n",
       "233        MARINA MIRANDA DE FARIA  ARQUITETURA E URBANISMO   \n",
       "241  NICOLAS DE OLIVEIRA FERNANDES  ARQUITETURA E URBANISMO   \n",
       "282       ANA LUISA SANTOS MARTINS         ENGENHARIA CIVIL   \n",
       "292             DANIEL SILVA NEIVA     ENGENHARIA AMBIENTAL   \n",
       "305   ANA LUIZA SILVA SANTOS FELIX        ENGENHARIA URBANA   \n",
       "\n",
       "                   BOLSA INICIO BOLSA TERMINO BOLSA  \\\n",
       "233  EXTENSÃO DEARQ 2019   2019-04-01    2019-12-15   \n",
       "241  EXTENSÃO DEARQ 2019   2019-03-01    2019-12-31   \n",
       "282  EXTENSÃO DEPRO 2019   2019-03-01    2019-12-31   \n",
       "292  EXTENSÃO DEMUL 2019   2019-03-01    2019-12-20   \n",
       "305  EXTENSÃO DEURB 2019   2019-03-01    2019-12-31   \n",
       "\n",
       "                                               PROJETO  CONTADOR  \\\n",
       "233  O REASSENTAMENTO INVOLUNTARIO DOS ATINGIDOS DE...         1   \n",
       "241  ACOMPANHAMENTO DA COMPRA INSTITUCIONAL DA AGRI...         1   \n",
       "282  USO EFICIENTE DE AGUA E ENERGIA NA ESCOLA DE M...         1   \n",
       "292              ASTRONOMIA NA COMUNIDADE E ITINERANTE         1   \n",
       "305  Educação Sanitária Sustentável em Áreas de Int...         1   \n",
       "\n",
       "                  Dias_com_bolsa  Dias  \n",
       "233  258 days 00:00:00.000000000   258  \n",
       "241  305 days 00:00:00.000000000   305  \n",
       "282  305 days 00:00:00.000000000   305  \n",
       "292  294 days 00:00:00.000000000   294  \n",
       "305  305 days 00:00:00.000000000   305  "
      ]
     },
     "execution_count": 98,
     "metadata": {},
     "output_type": "execute_result"
    }
   ],
   "source": [
    "base['Dias_com_bolsa'] = base['Dias_com_bolsa'].astype(str)\n",
    "base[['Dias','string']] = base.Dias_com_bolsa.str.split(\" \",n=1,expand=True,)\n",
    "base['Dias'] = base['Dias'].astype(int)\n",
    "base = base.drop(columns=['string'])\n",
    "\n",
    "base.tail()"
   ]
  },
  {
   "cell_type": "code",
   "execution_count": 99,
   "metadata": {},
   "outputs": [
    {
     "data": {
      "text/plain": [
       "CURSO\n",
       "ARQUITETURA E URBANISMO               19187\n",
       "ENGENHARIA AMBIENTAL                   5501\n",
       "ENGENHARIA CIVIL                       4539\n",
       "ENGENHARIA DE CONTROLE E AUTOMACAO     3432\n",
       "ENGENHARIA DE MINAS                    6102\n",
       "ENGENHARIA GEOLOGICA                   4418\n",
       "ENGENHARIA MECANICA                    3828\n",
       "ENGENHARIA METALURGICA                  274\n",
       "ENGENHARIA URBANA                       609\n",
       "Name: Dias, dtype: int32"
      ]
     },
     "execution_count": 99,
     "metadata": {},
     "output_type": "execute_result"
    }
   ],
   "source": [
    "base.groupby(['CURSO']).Dias.sum()"
   ]
  },
  {
   "cell_type": "code",
   "execution_count": 100,
   "metadata": {},
   "outputs": [],
   "source": [
    "dias_com_bolsa = pd.DataFrame({'Dias com bolsa': base.groupby(['CURSO']).Dias.sum()}).reset_index()\n",
    "bolsas_por_curso = pd.DataFrame({'Quantidade de Bolsas': base.groupby(['CURSO']).CONTADOR.sum()}).reset_index()\n",
    "tabela = bolsas_por_curso.join(dias_com_bolsa.set_index('CURSO'), on = 'CURSO')\n",
    "\n",
    "EM_total = pd.read_csv('emtotalordenado.csv',sep=';', encoding='latin-1')\n",
    "matriculados = EM_total.groupby(EM_total['Curso']).TotalGeral.sum()\n",
    "matriculados = pd.DataFrame(matriculados).reset_index()\n",
    "\n",
    "cursos_matriculados = matriculados[\"Curso\"].str.split(\"-\", n = 1, expand = True)\n",
    "matriculados['CURSO'] = cursos_matriculados[0]\n",
    "matriculados.drop(columns =[\"Curso\"], inplace = True) \n",
    "tabela = tabela.join(matriculados.set_index('CURSO'), on = 'CURSO')\n",
    "tabela = tabela.rename(columns={'TotalGeral': 'Matriculados'})"
   ]
  },
  {
   "cell_type": "code",
   "execution_count": 102,
   "metadata": {},
   "outputs": [],
   "source": [
    "tabela['Bolsas por 100 alunos'] =round(((tabela['Quantidade de Bolsas']/tabela['Matriculados'])*100),2)\n",
    "tabela['Medias_dias_das_bolsas'] = round((tabela['Dias com bolsa']/tabela['Quantidade de Bolsas']),0)"
   ]
  },
  {
   "cell_type": "code",
   "execution_count": 112,
   "metadata": {},
   "outputs": [
    {
     "data": {
      "image/png": "[encoded data removed]",
      "text/plain": [
       "<Figure size 432x288 with 1 Axes>"
      ]
     },
     "metadata": {},
     "output_type": "display_data"
    }
   ],
   "source": [
    "import matplotlib.pyplot as plt\n",
    "\n",
    "plt.bar(tabela.iloc[:,0].values, tabela.iloc[:,5].values,color = 'blue',linewidth=5)\n",
    "\n",
    "#plt.ylim([-10,10])\n",
    "plt.ylabel('Dias',size = 16)\n",
    "plt.xlabel('Disciplinas',size = 16)\n",
    "\n",
    "plt.xticks(rotation = 80)\n",
    "plt.yticks()\n",
    "\n",
    "#plt.xlim([2004.0,2018.0])\n",
    "\n",
    "plt.title('Duração média dos Projetos de Extensão', size = 20)\n",
    "#plt.legend(loc = ('best'),fontsize=18)\n",
    "plt.grid(True)\n",
    "plt.show()"
   ]
  }
 ],
 "metadata": {
  "kernelspec": {
   "display_name": "Python 3",
   "language": "python",
   "name": "python3"
  },
  "language_info": {
   "codemirror_mode": {
    "name": "ipython",
    "version": 3
   },
   "file_extension": ".py",
   "mimetype": "text/x-python",
   "name": "python",
   "nbconvert_exporter": "python",
   "pygments_lexer": "ipython3",
   "version": "3.6.5"
  }
 },
 "nbformat": 4,
 "nbformat_minor": 2
}
