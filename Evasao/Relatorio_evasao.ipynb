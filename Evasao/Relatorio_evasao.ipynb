{
 "cells": [
  {
   "cell_type": "code",
   "execution_count": 3,
   "metadata": {},
   "outputs": [],
   "source": [
    "#bibliotecas básicas para manipulção de dado.\n",
    "import pandas as pd\n",
    "import numpy as np"
   ]
  },
  {
   "cell_type": "markdown",
   "metadata": {},
   "source": [
    "Realizo a leitura dos registros dos alunos evadidos da Escola de Minas. Dados retirados da UFOP, link no final do prgrama."
   ]
  },
  {
   "cell_type": "code",
   "execution_count": 4,
   "metadata": {},
   "outputs": [],
   "source": [
    "evadidos_1 = pd.read_csv('graduacao_evadidos.csv',sep=';', encoding='latin-1')\n",
    "evadidos_2 = pd.read_csv('evadidos19_1.csv',sep=';', encoding='latin-1')\n",
    "evadidos_3 = pd.read_csv('evadidos18_2.csv',sep=';', encoding='latin-1')\n",
    "evadidos_4 = pd.read_csv('evadidos18_1.csv',sep=';', encoding='latin-1')"
   ]
  },
  {
   "cell_type": "markdown",
   "metadata": {},
   "source": [
    "Tratamento dos bancos de dado:"
   ]
  },
  {
   "cell_type": "code",
   "execution_count": 5,
   "metadata": {},
   "outputs": [
    {
     "data": {
      "text/html": [
       "<div>\n",
       "<style scoped>\n",
       "    .dataframe tbody tr th:only-of-type {\n",
       "        vertical-align: middle;\n",
       "    }\n",
       "\n",
       "    .dataframe tbody tr th {\n",
       "        vertical-align: top;\n",
       "    }\n",
       "\n",
       "    .dataframe thead th {\n",
       "        text-align: right;\n",
       "    }\n",
       "</style>\n",
       "<table border=\"1\" class=\"dataframe\">\n",
       "  <thead>\n",
       "    <tr style=\"text-align: right;\">\n",
       "      <th></th>\n",
       "      <th>ANO</th>\n",
       "      <th>SEMESTRE</th>\n",
       "      <th>CAMPUS</th>\n",
       "      <th>UNIDADE_ACADEMICA</th>\n",
       "      <th>CURSO</th>\n",
       "      <th>MODALIDADE</th>\n",
       "      <th>FORMATO</th>\n",
       "      <th>TIPO_EVASAO</th>\n",
       "      <th>EVADIDOS</th>\n",
       "    </tr>\n",
       "  </thead>\n",
       "  <tbody>\n",
       "    <tr>\n",
       "      <th>3113</th>\n",
       "      <td>2017</td>\n",
       "      <td>2</td>\n",
       "      <td>OURO PRETO</td>\n",
       "      <td>ESCOLA DE MINAS</td>\n",
       "      <td>MEC</td>\n",
       "      <td>BACHARELADO</td>\n",
       "      <td>PRESENCIAL</td>\n",
       "      <td>DESLIGAMENTO</td>\n",
       "      <td>3</td>\n",
       "    </tr>\n",
       "    <tr>\n",
       "      <th>3114</th>\n",
       "      <td>2017</td>\n",
       "      <td>2</td>\n",
       "      <td>OURO PRETO</td>\n",
       "      <td>ESCOLA DE MINAS</td>\n",
       "      <td>MEC</td>\n",
       "      <td>BACHARELADO</td>\n",
       "      <td>PRESENCIAL</td>\n",
       "      <td>JUBILAMENTO</td>\n",
       "      <td>2</td>\n",
       "    </tr>\n",
       "    <tr>\n",
       "      <th>3115</th>\n",
       "      <td>2017</td>\n",
       "      <td>2</td>\n",
       "      <td>OURO PRETO</td>\n",
       "      <td>ESCOLA DE MINAS</td>\n",
       "      <td>MET</td>\n",
       "      <td>BACHARELADO</td>\n",
       "      <td>PRESENCIAL</td>\n",
       "      <td>CANCELAMENTO</td>\n",
       "      <td>32</td>\n",
       "    </tr>\n",
       "    <tr>\n",
       "      <th>3116</th>\n",
       "      <td>2017</td>\n",
       "      <td>2</td>\n",
       "      <td>OURO PRETO</td>\n",
       "      <td>ESCOLA DE MINAS</td>\n",
       "      <td>MET</td>\n",
       "      <td>BACHARELADO</td>\n",
       "      <td>PRESENCIAL</td>\n",
       "      <td>DESLIGAMENTO</td>\n",
       "      <td>9</td>\n",
       "    </tr>\n",
       "    <tr>\n",
       "      <th>3117</th>\n",
       "      <td>2017</td>\n",
       "      <td>2</td>\n",
       "      <td>OURO PRETO</td>\n",
       "      <td>ESCOLA DE MINAS</td>\n",
       "      <td>MET</td>\n",
       "      <td>BACHARELADO</td>\n",
       "      <td>PRESENCIAL</td>\n",
       "      <td>JUBILAMENTO</td>\n",
       "      <td>1</td>\n",
       "    </tr>\n",
       "  </tbody>\n",
       "</table>\n",
       "</div>"
      ],
      "text/plain": [
       "       ANO  SEMESTRE      CAMPUS UNIDADE_ACADEMICA CURSO   MODALIDADE  \\\n",
       "3113  2017         2  OURO PRETO   ESCOLA DE MINAS   MEC  BACHARELADO   \n",
       "3114  2017         2  OURO PRETO   ESCOLA DE MINAS   MEC  BACHARELADO   \n",
       "3115  2017         2  OURO PRETO   ESCOLA DE MINAS   MET  BACHARELADO   \n",
       "3116  2017         2  OURO PRETO   ESCOLA DE MINAS   MET  BACHARELADO   \n",
       "3117  2017         2  OURO PRETO   ESCOLA DE MINAS   MET  BACHARELADO   \n",
       "\n",
       "         FORMATO   TIPO_EVASAO  EVADIDOS  \n",
       "3113  PRESENCIAL  DESLIGAMENTO         3  \n",
       "3114  PRESENCIAL   JUBILAMENTO         2  \n",
       "3115  PRESENCIAL  CANCELAMENTO        32  \n",
       "3116  PRESENCIAL  DESLIGAMENTO         9  \n",
       "3117  PRESENCIAL   JUBILAMENTO         1  "
      ]
     },
     "execution_count": 5,
     "metadata": {},
     "output_type": "execute_result"
    }
   ],
   "source": [
    "#Unir os ultimos 3 periodos em um dataframe, todos continham cabeçalho identico.\n",
    "evadidos_EM = pd.concat([evadidos_2, evadidos_3, evadidos_4], ignore_index=False, sort = False)\n",
    "\n",
    "#Transformo a cabeçalho de todas as colunas em letra maiuscula e sem acento.\n",
    "evadidos_1.columns = evadidos_1.columns.str.upper()\n",
    "evadidos_EM.columns = evadidos_EM.columns.str.upper()\n",
    "evadidos_EM = evadidos_EM.rename(columns={\"UNIDADE ACADÊMICA\": \"UNIDADE_ACADEMICA\",\"TIPO EVASÃO\": \"TIPO_EVASAO\",\"ALUNOS\": \"EVADIDOS\"})\n",
    "\n",
    "#Junto o dataframe com todos os evadidos da EM\n",
    "evadidos = pd.concat([evadidos_EM, evadidos_1], ignore_index=False, sort = False)\n",
    "\n",
    "#Seleciono a Escola de Minas e limpo a coluna \"CURSO\"\n",
    "evadidos = evadidos.loc[evadidos['UNIDADE_ACADEMICA'] == 'ESCOLA DE MINAS']\n",
    "evadidos[['Resto','CURSO']] = (evadidos.CURSO.astype(str).str.split('-', expand = True))\n",
    "evadidos = evadidos.drop(columns =[\"Resto\"]) \n",
    "evadidos['TIPO_EVASAO'] = evadidos['TIPO_EVASAO'].replace('REOPÇÃO', 'REOPCAO')\n",
    "evadidos['TIPO_EVASAO'] = evadidos.TIPO_EVASAO.str.replace('POR ', '')\n",
    "evadidos.tail()"
   ]
  },
  {
   "cell_type": "markdown",
   "metadata": {},
   "source": [
    "Com o número absoluto de evadidos em cada curso NÃO podemos comparar as disciplinas!! Para isso, temos que encontrar a TAXA DE EVASÃO, indicando quem mais evadiu proporcionalmente.\n",
    "\n",
    "Vamos descobrir quantos matriculados cada curso tem ao longo to tempo."
   ]
  },
  {
   "cell_type": "code",
   "execution_count": 6,
   "metadata": {},
   "outputs": [
    {
     "data": {
      "text/html": [
       "<div>\n",
       "<style scoped>\n",
       "    .dataframe tbody tr th:only-of-type {\n",
       "        vertical-align: middle;\n",
       "    }\n",
       "\n",
       "    .dataframe tbody tr th {\n",
       "        vertical-align: top;\n",
       "    }\n",
       "\n",
       "    .dataframe thead th {\n",
       "        text-align: right;\n",
       "    }\n",
       "</style>\n",
       "<table border=\"1\" class=\"dataframe\">\n",
       "  <thead>\n",
       "    <tr style=\"text-align: right;\">\n",
       "      <th></th>\n",
       "      <th>TotalGeral</th>\n",
       "    </tr>\n",
       "    <tr>\n",
       "      <th>SemestreLetivo</th>\n",
       "      <th></th>\n",
       "    </tr>\n",
       "  </thead>\n",
       "  <tbody>\n",
       "    <tr>\n",
       "      <th>2015</th>\n",
       "      <td>6284</td>\n",
       "    </tr>\n",
       "    <tr>\n",
       "      <th>2016</th>\n",
       "      <td>6358</td>\n",
       "    </tr>\n",
       "    <tr>\n",
       "      <th>2017</th>\n",
       "      <td>6119</td>\n",
       "    </tr>\n",
       "    <tr>\n",
       "      <th>2018</th>\n",
       "      <td>6173</td>\n",
       "    </tr>\n",
       "    <tr>\n",
       "      <th>2019</th>\n",
       "      <td>3101</td>\n",
       "    </tr>\n",
       "  </tbody>\n",
       "</table>\n",
       "</div>"
      ],
      "text/plain": [
       "                TotalGeral\n",
       "SemestreLetivo            \n",
       "2015                  6284\n",
       "2016                  6358\n",
       "2017                  6119\n",
       "2018                  6173\n",
       "2019                  3101"
      ]
     },
     "execution_count": 6,
     "metadata": {},
     "output_type": "execute_result"
    }
   ],
   "source": [
    "#Matriculados na Escola de Minas\n",
    "EM_total = pd.read_csv('emtotalordenado.csv',sep=';', encoding='latin-1')\n",
    "\n",
    "#para agrupar pela data transformei os anos em variavel tipo data e somei os periodos.\n",
    "EM_total['SemestreLetivo'] = pd.to_datetime(EM_total['SemestreLetivo'], format='%Y/%m')\n",
    "matriculados = pd.DataFrame(EM_total.groupby(EM_total['SemestreLetivo'].dt.year).TotalGeral.sum())\n",
    "matriculados.tail()"
   ]
  },
  {
   "cell_type": "markdown",
   "metadata": {},
   "source": [
    "Agora com os bancos de dado de matriculados e evadidos podemos junta-los e encontrar a Taxa de Evasão."
   ]
  },
  {
   "cell_type": "code",
   "execution_count": 19,
   "metadata": {
    "scrolled": true
   },
   "outputs": [
    {
     "data": {
      "text/html": [
       "<div>\n",
       "<style scoped>\n",
       "    .dataframe tbody tr th:only-of-type {\n",
       "        vertical-align: middle;\n",
       "    }\n",
       "\n",
       "    .dataframe tbody tr th {\n",
       "        vertical-align: top;\n",
       "    }\n",
       "\n",
       "    .dataframe thead th {\n",
       "        text-align: right;\n",
       "    }\n",
       "</style>\n",
       "<table border=\"1\" class=\"dataframe\">\n",
       "  <thead>\n",
       "    <tr style=\"text-align: right;\">\n",
       "      <th></th>\n",
       "      <th>ANO</th>\n",
       "      <th>EVADIDOS</th>\n",
       "      <th>Matriculados</th>\n",
       "      <th>Taxa de Evasão</th>\n",
       "      <th>Evadidos a cada 100 alunos</th>\n",
       "      <th>Média movel</th>\n",
       "    </tr>\n",
       "  </thead>\n",
       "  <tbody>\n",
       "    <tr>\n",
       "      <th>12</th>\n",
       "      <td>2015</td>\n",
       "      <td>303</td>\n",
       "      <td>6284</td>\n",
       "      <td>0.048218</td>\n",
       "      <td>4.82</td>\n",
       "      <td>6147.00</td>\n",
       "    </tr>\n",
       "    <tr>\n",
       "      <th>13</th>\n",
       "      <td>2016</td>\n",
       "      <td>299</td>\n",
       "      <td>6358</td>\n",
       "      <td>0.047027</td>\n",
       "      <td>4.70</td>\n",
       "      <td>6280.67</td>\n",
       "    </tr>\n",
       "    <tr>\n",
       "      <th>14</th>\n",
       "      <td>2017</td>\n",
       "      <td>252</td>\n",
       "      <td>6119</td>\n",
       "      <td>0.041183</td>\n",
       "      <td>4.12</td>\n",
       "      <td>6253.67</td>\n",
       "    </tr>\n",
       "    <tr>\n",
       "      <th>15</th>\n",
       "      <td>2018</td>\n",
       "      <td>303</td>\n",
       "      <td>6173</td>\n",
       "      <td>0.049085</td>\n",
       "      <td>4.91</td>\n",
       "      <td>6216.67</td>\n",
       "    </tr>\n",
       "    <tr>\n",
       "      <th>16</th>\n",
       "      <td>2019</td>\n",
       "      <td>280</td>\n",
       "      <td>6202</td>\n",
       "      <td>0.045147</td>\n",
       "      <td>4.51</td>\n",
       "      <td>6164.67</td>\n",
       "    </tr>\n",
       "  </tbody>\n",
       "</table>\n",
       "</div>"
      ],
      "text/plain": [
       "     ANO  EVADIDOS  Matriculados  Taxa de Evasão  Evadidos a cada 100 alunos  \\\n",
       "12  2015       303          6284        0.048218                        4.82   \n",
       "13  2016       299          6358        0.047027                        4.70   \n",
       "14  2017       252          6119        0.041183                        4.12   \n",
       "15  2018       303          6173        0.049085                        4.91   \n",
       "16  2019       280          6202        0.045147                        4.51   \n",
       "\n",
       "    Média movel  \n",
       "12      6147.00  \n",
       "13      6280.67  \n",
       "14      6253.67  \n",
       "15      6216.67  \n",
       "16      6164.67  "
      ]
     },
     "execution_count": 19,
     "metadata": {},
     "output_type": "execute_result"
    }
   ],
   "source": [
    "#Agrupo os evadidos pelo ano\n",
    "tabela = (pd.DataFrame((evadidos.groupby(['ANO']).EVADIDOS.sum())))\n",
    "#Crio uma coluna com com os matriculados, Taxa de Evasão e e quantidade de evadidos a cada 100 alunos.\n",
    "tabela['Matriculados'] = matriculados['TotalGeral']\n",
    "tabela['Taxa de Evasão'] = (tabela['EVADIDOS']/tabela['Matriculados'])\n",
    "tabela['Evadidos a cada 100 alunos'] = (round(tabela['Taxa de Evasão']*100,2))\n",
    "tabela = tabela.reset_index()\n",
    "\n",
    "#Realizo uma limpeza e Multiplico o primeiro semestre de 2019 por 2 para obter uma aproximação dos alunos matriculados e evadidos no ano.\n",
    "tabela.iloc[16,[1,2]] = tabela.iloc[16,[1,2]]*2\n",
    "tabela['EVADIDOS'] = (tabela.EVADIDOS.astype(str).str.split('.', expand = True)).astype(int)\n",
    "tabela['Matriculados'] = (tabela.Matriculados.astype(str).str.split('.', expand = True)).astype(int)\n",
    "tabela['Média movel'] = round(tabela['Matriculados'].rolling(window=3).mean(),2)\n",
    "\n",
    "tabela.tail()"
   ]
  },
  {
   "cell_type": "markdown",
   "metadata": {},
   "source": [
    "<h2>Graficos da Escola de Minas: <h2>"
   ]
  },
  {
   "cell_type": "code",
   "execution_count": 21,
   "metadata": {},
   "outputs": [
    {
     "data": {
      "image/png": "[encoded data removed]",
      "text/plain": [
       "<Figure size 1440x576 with 1 Axes>"
      ]
     },
     "metadata": {},
     "output_type": "display_data"
    }
   ],
   "source": [
    "import matplotlib.pyplot as plt\n",
    "import numpy as np\n",
    "\n",
    "plt.figure(figsize=(20,8))\n",
    "\n",
    "plt.plot(tabela.iloc[:,0].values, tabela.iloc[:,4].values,color = 'red',linewidth=5)\n",
    "#plt.plot(tabela.iloc[:,0].values, tabela.iloc[:,5].values,color = 'blue',linewidth=5)\n",
    "\n",
    "plt.ylabel('Porcentagem de Evadidos',size = 26)\n",
    "plt.xlabel('Ano',size = 26)\n",
    "\n",
    "plt.xticks(size = 22)\n",
    "plt.yticks(size = 22)\n",
    "\n",
    "plt.xlim(left=2003)\n",
    "plt.title('Escola de Minas', size = 48)\n",
    "#plt.legend(loc = ('best'),fontsize=18)\n",
    "plt.grid(True)\n",
    "plt.show()"
   ]
  },
  {
   "cell_type": "markdown",
   "metadata": {},
   "source": [
    "<h2> Observando a evasão de cada curso temos: <h2>"
   ]
  },
  {
   "cell_type": "code",
   "execution_count": 957,
   "metadata": {},
   "outputs": [
    {
     "data": {
      "text/html": [
       "<div>\n",
       "<style scoped>\n",
       "    .dataframe tbody tr th:only-of-type {\n",
       "        vertical-align: middle;\n",
       "    }\n",
       "\n",
       "    .dataframe tbody tr th {\n",
       "        vertical-align: top;\n",
       "    }\n",
       "\n",
       "    .dataframe thead th {\n",
       "        text-align: right;\n",
       "    }\n",
       "</style>\n",
       "<table border=\"1\" class=\"dataframe\">\n",
       "  <thead>\n",
       "    <tr style=\"text-align: right;\">\n",
       "      <th></th>\n",
       "      <th>ANO</th>\n",
       "      <th>CURSO</th>\n",
       "      <th>TIPO_EVASAO</th>\n",
       "      <th>Evadidos</th>\n",
       "    </tr>\n",
       "  </thead>\n",
       "  <tbody>\n",
       "    <tr>\n",
       "      <th>489</th>\n",
       "      <td>2019</td>\n",
       "      <td>PRO</td>\n",
       "      <td>DESLIGAMENTO PRAZO MÁXIMO</td>\n",
       "      <td>4</td>\n",
       "    </tr>\n",
       "    <tr>\n",
       "      <th>490</th>\n",
       "      <td>2019</td>\n",
       "      <td>PRO</td>\n",
       "      <td>NRM</td>\n",
       "      <td>1</td>\n",
       "    </tr>\n",
       "    <tr>\n",
       "      <th>491</th>\n",
       "      <td>2019</td>\n",
       "      <td>URB</td>\n",
       "      <td>CANCELAMENTO</td>\n",
       "      <td>2</td>\n",
       "    </tr>\n",
       "    <tr>\n",
       "      <th>492</th>\n",
       "      <td>2019</td>\n",
       "      <td>URB</td>\n",
       "      <td>DESLIGAMENTO</td>\n",
       "      <td>1</td>\n",
       "    </tr>\n",
       "    <tr>\n",
       "      <th>493</th>\n",
       "      <td>2019</td>\n",
       "      <td>URB</td>\n",
       "      <td>REOPCAO</td>\n",
       "      <td>1</td>\n",
       "    </tr>\n",
       "  </tbody>\n",
       "</table>\n",
       "</div>"
      ],
      "text/plain": [
       "      ANO CURSO                TIPO_EVASAO  Evadidos\n",
       "489  2019   PRO  DESLIGAMENTO PRAZO MÁXIMO         4\n",
       "490  2019   PRO                        NRM         1\n",
       "491  2019   URB               CANCELAMENTO         2\n",
       "492  2019   URB               DESLIGAMENTO         1\n",
       "493  2019   URB                    REOPCAO         1"
      ]
     },
     "execution_count": 957,
     "metadata": {},
     "output_type": "execute_result"
    }
   ],
   "source": [
    "#Tabela base para a formulação dos gráficos e análises.\n",
    "evadidos_por_data_curso = evadidos.groupby([ 'ANO', 'CURSO','TIPO_EVASAO']).EVADIDOS.sum().to_frame(name = 'Evadidos').reset_index()\n",
    "\n",
    "evadidos_por_data_curso.tail()"
   ]
  },
  {
   "cell_type": "code",
   "execution_count": 958,
   "metadata": {},
   "outputs": [],
   "source": [
    "#Selecione aqui qual curso da Escola de Minas \n",
    "evadidos_por_data_curso = evadidos_por_data_curso.loc[evadidos_por_data_curso['CURSO'] == 'PRO']\n",
    "EM_total = EM_total.loc[EM_total['Curso'] == 'ENGENHARIA DE PRODUCAO-PRO']"
   ]
  },
  {
   "cell_type": "code",
   "execution_count": 959,
   "metadata": {},
   "outputs": [],
   "source": [
    "#tabela do curso desejado\n",
    "evadidos_por_data_curso = pd.DataFrame(evadidos_por_data_curso.groupby(['ANO']).Evadidos.sum())\n",
    "\n",
    "#Juntos os bancos de dados necessários e \n",
    "matriculados_curso = pd.DataFrame(EM_total.groupby(EM_total['SemestreLetivo'].dt.year).TotalGeral.sum())\n",
    "evadidos_por_data_curso['matriculados'] = matriculados_curso['TotalGeral']\n",
    "evadidos_por_data_curso['Taxa de Evasao'] = (evadidos_por_data_curso['Evadidos']/evadidos_por_data_curso['matriculados'])*100\n",
    "evadidos_por_data_curso = evadidos_por_data_curso.reset_index()"
   ]
  },
  {
   "cell_type": "code",
   "execution_count": 960,
   "metadata": {},
   "outputs": [
    {
     "data": {
      "text/html": [
       "<div>\n",
       "<style scoped>\n",
       "    .dataframe tbody tr th:only-of-type {\n",
       "        vertical-align: middle;\n",
       "    }\n",
       "\n",
       "    .dataframe tbody tr th {\n",
       "        vertical-align: top;\n",
       "    }\n",
       "\n",
       "    .dataframe thead th {\n",
       "        text-align: right;\n",
       "    }\n",
       "</style>\n",
       "<table border=\"1\" class=\"dataframe\">\n",
       "  <thead>\n",
       "    <tr style=\"text-align: right;\">\n",
       "      <th></th>\n",
       "      <th>ANO</th>\n",
       "      <th>Evadidos</th>\n",
       "      <th>matriculados</th>\n",
       "      <th>Taxa de Evasao</th>\n",
       "    </tr>\n",
       "  </thead>\n",
       "  <tbody>\n",
       "    <tr>\n",
       "      <th>12</th>\n",
       "      <td>2015</td>\n",
       "      <td>32</td>\n",
       "      <td>762</td>\n",
       "      <td>4.199475</td>\n",
       "    </tr>\n",
       "    <tr>\n",
       "      <th>13</th>\n",
       "      <td>2016</td>\n",
       "      <td>33</td>\n",
       "      <td>757</td>\n",
       "      <td>4.359313</td>\n",
       "    </tr>\n",
       "    <tr>\n",
       "      <th>14</th>\n",
       "      <td>2017</td>\n",
       "      <td>29</td>\n",
       "      <td>713</td>\n",
       "      <td>4.067321</td>\n",
       "    </tr>\n",
       "    <tr>\n",
       "      <th>15</th>\n",
       "      <td>2018</td>\n",
       "      <td>29</td>\n",
       "      <td>712</td>\n",
       "      <td>4.073034</td>\n",
       "    </tr>\n",
       "    <tr>\n",
       "      <th>16</th>\n",
       "      <td>2019</td>\n",
       "      <td>11</td>\n",
       "      <td>364</td>\n",
       "      <td>3.021978</td>\n",
       "    </tr>\n",
       "  </tbody>\n",
       "</table>\n",
       "</div>"
      ],
      "text/plain": [
       "     ANO  Evadidos  matriculados  Taxa de Evasao\n",
       "12  2015        32           762        4.199475\n",
       "13  2016        33           757        4.359313\n",
       "14  2017        29           713        4.067321\n",
       "15  2018        29           712        4.073034\n",
       "16  2019        11           364        3.021978"
      ]
     },
     "execution_count": 960,
     "metadata": {},
     "output_type": "execute_result"
    }
   ],
   "source": [
    "evadidos_por_data_curso.tail()"
   ]
  },
  {
   "cell_type": "markdown",
   "metadata": {},
   "source": [
    "<h2>Graficos dos cursos da Escola de Minas: <h2>"
   ]
  },
  {
   "cell_type": "code",
   "execution_count": 961,
   "metadata": {},
   "outputs": [
    {
     "data": {
      "image/png": "[encoded data removed]",
      "text/plain": [
       "<Figure size 1440x576 with 1 Axes>"
      ]
     },
     "metadata": {},
     "output_type": "display_data"
    }
   ],
   "source": [
    "import matplotlib.pyplot as plt\n",
    "\n",
    "plt.figure(figsize=(20,8))\n",
    "plt.plot(evadidos_por_data_curso.iloc[:,0].values, evadidos_por_data_curso.iloc[:,3].values, label = 'Eng. de Prod',color = 'blue',linewidth=5)\n",
    "#plt.plot(tabela_pro.iloc[:,0].values, tabela_pro.iloc[:,5].values, label = 'Eng. de Produção',color = 'blue',linewidth=5)\n",
    "\n",
    "plt.ylabel('Evadidos a cada 100 alunos',size = 26)\n",
    "plt.xlabel('Ano', size = 26)\n",
    "\n",
    "plt.yticks(size = 18)\n",
    "plt.xticks(size = 18)\n",
    "\n",
    "#plt.title('Escola de Minas',size = 22)\n",
    "plt.legend(loc = ('best'),fontsize=18)\n",
    "plt.grid(True)\n",
    "plt.show()"
   ]
  }
 ],
 "metadata": {
  "kernelspec": {
   "display_name": "Python 3",
   "language": "python",
   "name": "python3"
  },
  "language_info": {
   "codemirror_mode": {
    "name": "ipython",
    "version": 3
   },
   "file_extension": ".py",
   "mimetype": "text/x-python",
   "name": "python",
   "nbconvert_exporter": "python",
   "pygments_lexer": "ipython3",
   "version": "3.6.5"
  }
 },
 "nbformat": 4,
 "nbformat_minor": 4
}
